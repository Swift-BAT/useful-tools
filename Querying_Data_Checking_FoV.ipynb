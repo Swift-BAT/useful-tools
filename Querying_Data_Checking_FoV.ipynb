{
 "cells": [
  {
   "cell_type": "code",
   "execution_count": 1,
   "id": "5b3a9b9a",
   "metadata": {
    "scrolled": true
   },
   "outputs": [],
   "source": [
    "import swifttools.swift_too as swtoo\n",
    "import os\n",
    "from astropy.table import Table, vstack\n",
    "import matplotlib.pyplot as plt\n",
    "import numpy as np\n",
    "import healpy as hp\n",
    "from datetime import datetime, timedelta"
   ]
  },
  {
   "cell_type": "markdown",
   "id": "0740b95d",
   "metadata": {},
   "source": [
    "ToDo:\n",
    "- Getting failed trigger TTE data"
   ]
  },
  {
   "cell_type": "code",
   "execution_count": 12,
   "id": "b5c7e547",
   "metadata": {},
   "outputs": [],
   "source": [
    "# Set this to wherever you want to have all the data accumulate\n",
    "DOWNLOAD_PATH = '/scratch/jjd330/swift_api_downloads/'\n",
    "\n",
    "def utctime2met(utctime):\n",
    "    '''\n",
    "    Changes utc time to mission elapsed time in seconds (met)\n",
    "    \n",
    "    utctime: date time or string in Y-m-d H:M:S.f format should work\n",
    "    '''\n",
    "    \n",
    "    cc = swtoo.Clock(utctime=utctime)\n",
    "    \n",
    "    return cc.met\n",
    "\n",
    "\n",
    "def get_obsids(time, t_buff=100.0):\n",
    "    \n",
    "    if type(time) == str:\n",
    "        time = datetime.strptime(time, '%Y-%m-%d %H:%M:%S.%f')\n",
    "        \n",
    "    start_time = time - timedelta(seconds=t_buff)\n",
    "    end_time = time + timedelta(seconds=t_buff)\n",
    "    print(start_time)\n",
    "    print(end_time)\n",
    "    \n",
    "    oq = swtoo.ObsQuery(begin=start_time, length=timedelta(seconds=2*t_buff))\n",
    "    print(oq)\n",
    "    \n",
    "    N = len(oq)\n",
    "    \n",
    "    obsids = []\n",
    "    \n",
    "    for i in range(N):\n",
    "        \n",
    "        if oq[i].begin < end_time and oq[i].end > start_time:\n",
    "            \n",
    "            obsids.append(oq[i].obsid)\n",
    "            \n",
    "    return obsids\n",
    "\n",
    "\n",
    "def download_data(obsids, string_match=None, bat=True, auxil=True):\n",
    "    \n",
    "    down_results = []\n",
    "    \n",
    "    for obsid in obsids:\n",
    "        res = swtoo.Swift_Data(obsid=obsid, bat=bat, auxil=auxil, match=string_match, outdir=DOWNLOAD_PATH)\n",
    "        down_results.append(res)\n",
    "        \n",
    "    return down_results\n",
    "\n",
    "\n",
    "def get_earth_sat_pos(sao_tab, met):\n",
    "    '''\n",
    "    Gets Earth RA, Dec, and occultation radius for Swift at a specific time\n",
    "    \n",
    "    input:\n",
    "    sao_tab : Table of prefilter information (Earth pos, Sun pos, Sat position, etc.)\n",
    "    met : mission elapsed time (s)\n",
    "\n",
    "    \n",
    "    output:\n",
    "    RA : RA of Earth center for Swift \n",
    "    Dec : Dec of Earth center for Swift\n",
    "    occultation_radius : radius of circle on sky that Earth occults for Swift (deg)\n",
    "    '''\n",
    "    \n",
    "    sao_ind = np.argmin(np.abs(sao_tab['TIME'] - met))\n",
    "    sao_row = sao_tab[sao_ind]\n",
    "    \n",
    "    altitude = sao_row['SAT_ALT']\n",
    "    ra, dec = sao_row['EARTH_RA'], sao_row['EARTH_DEC']\n",
    "\n",
    "    EARTH_RADIUS = 6378.140\n",
    "    occultation_radius = np.rad2deg(np.arcsin(EARTH_RADIUS / altitude))\n",
    "\n",
    "    return ra, dec, occultation_radius\n",
    "\n",
    "def ang_sep(ra0, dec0, ra1, dec1):\n",
    "    dcos = np.cos(np.radians(np.abs(ra0 - ra1)))\n",
    "    angsep = np.arccos(\n",
    "        np.cos(np.radians(90 - dec0)) * np.cos(np.radians(90 - dec1))\n",
    "        + np.sin(np.radians(90 - dec0)) * np.sin(np.radians(90 - dec1)) * dcos\n",
    "    )\n",
    "    return np.rad2deg(angsep)\n",
    "\n",
    "\n",
    "def is_pos_earth_occulted(ra, dec, sao_tab, met):\n",
    "    '''\n",
    "    Returns True if ra, dec is behind the Earth\n",
    "    \n",
    "    input:\n",
    "    ra: RA of position of interest (scalar or array)\n",
    "    dec: Dec of position of interest (scalar or array)\n",
    "    sao_tab : Table of prefilter information (Earth pos, Sun pos, Sat position, etc.)\n",
    "    met : mission elapsed time (s)\n",
    "\n",
    "    \n",
    "    output:\n",
    "    Bool : True if ra, dec is behind Earth (same size as ra and dec)\n",
    "    '''\n",
    "\n",
    "    earth_ra, earth_dec, earth_rad = get_earth_sat_pos(sao_tab, met)\n",
    "    \n",
    "    angsep = ang_sep(ra, dec, earth_ra, earth_dec)\n",
    "    \n",
    "    return (angsep <= earth_rad)    \n",
    "    \n",
    "    \n",
    "def is_circ_earth_occulted(ra, dec, radius, sao_tab, met):\n",
    "    '''\n",
    "    Returns fraction of circle by solid angle that is earth occulted\n",
    "    0 if not Earth occulted at all\n",
    "    \n",
    "    input:\n",
    "    ra: RA of circle center\n",
    "    dec: Dec of circle center\n",
    "    radius: radius of circle (deg)\n",
    "    sao_tab : Table of prefilter information (Earth pos, Sun pos, Sat position, etc.)\n",
    "    met : mission elapsed time (s)\n",
    "    \n",
    "    \n",
    "    output:\n",
    "    frac_occult : Fraction of the circle that is earth occulted (float)\n",
    "    '''\n",
    "\n",
    "    earth_ra, earth_dec, earth_rad = get_earth_sat_pos(sao_tab, met)\n",
    "    \n",
    "    nside = 2**7\n",
    "    npix = hp.nside2npix(nside)\n",
    "    \n",
    "    earth_m = np.zeros(npix, dtype=int)\n",
    "    earth_vec = hp.ang2vec(earth_ra, earth_dec, lonlat=True)\n",
    "    earth_pix = hp.query_disc(nside, earth_vec, np.radians(earth_rad), nest=True)\n",
    "    earth_m[earth_pix] = 1\n",
    "    \n",
    "    circ_m = np.zeros(hp.nside2npix(nside), dtype=int)\n",
    "    vec = hp.ang2vec(ra, dec, lonlat=True)\n",
    "    circ_pix = hp.query_disc(nside, vec, np.radians(radius), nest=True)\n",
    "    circ_m[circ_pix] = 1\n",
    "    \n",
    "    frac_occult = np.sum(earth_m*circ_m) / np.sum(circ_m)\n",
    "\n",
    "    return frac_occult\n",
    "    \n",
    "    \n",
    "    \n",
    "    \n",
    "    \n",
    "def get_pointing_direction(att_tab, met):\n",
    "    '''\n",
    "    Gets the boresight RA and Dec of Swift at a specific time\n",
    "    \n",
    "    input:\n",
    "    att_tab : Table of attitude information\n",
    "    met : mission elapsed time (s)\n",
    "\n",
    "    \n",
    "    output:\n",
    "    RA : RA pnt direction\n",
    "    Dec : Dec pnt direction\n",
    "    '''\n",
    "\n",
    "    \n",
    "    att_ind = np.argmin(np.abs(att_tab['TIME'] - met))\n",
    "    att_row = att_tab[att_ind]\n",
    "    \n",
    "    RA, DEC = att_row['POINTING'][0], att_row['POINTING'][1]\n",
    "    \n",
    "    return RA, DEC\n",
    "    \n",
    "\n",
    "\n",
    "def get_prefilter_data(time, t_buff=100.0):\n",
    "    '''\n",
    "    Finds all the observations in time - t_buff to time + t_buff\n",
    "    downloads all the prefilter data tables and mergers them\n",
    "    contains information like Earth position, satellite position, Sun position, etc.\n",
    "    \n",
    "    input:\n",
    "    time : date time or string in Y-m-d H:M:S.f format should work\n",
    "    t_buff : get data at time +/- t_buff seconds\n",
    "\n",
    "    \n",
    "    output:\n",
    "    sao_tab : Table with prefilter information\n",
    "    '''\n",
    "    \n",
    "    \n",
    "    obsids = get_obsids(time, t_buff=t_buff)\n",
    "    \n",
    "    down_results = download_data(obsids, string_match=['*sao.fits.gz'])\n",
    "    \n",
    "    sao_tabs = []\n",
    "    \n",
    "    for down_result in down_results:\n",
    "\n",
    "        sao_row = [r for r in down_result if 'sao' in r.filename][0]\n",
    "        sao_fname = os.path.join(DOWNLOAD_PATH, sao_row.path, sao_row.filename)\n",
    "\n",
    "        sao_tabs.append(Table.read(sao_fname))\n",
    "\n",
    "\n",
    "    sao_tab = vstack(sao_tabs)\n",
    "    \n",
    "    return sao_tab\n",
    "\n",
    "\n",
    "\n",
    "def get_pointing_data(time, t_buff=100.0):\n",
    "    '''\n",
    "    Finds all the observations in time - t_buff to time + t_buff\n",
    "    downloads all the attitude data tables and mergers them\n",
    "    \n",
    "    input:\n",
    "    time : date time or string in Y-m-d H:M:S.f format should work\n",
    "    t_buff : get data at time +/- t_buff seconds\n",
    "\n",
    "    \n",
    "    output:\n",
    "    att_tab : Table with pointing information\n",
    "    '''\n",
    "    \n",
    "    \n",
    "    obsids = get_obsids(time, t_buff=t_buff)\n",
    "    \n",
    "    down_results = download_data(obsids, string_match=['*pat.fits.gz'])\n",
    "    \n",
    "    att_tabs = []\n",
    "    \n",
    "    for down_result in down_results:\n",
    "\n",
    "        att_row = [r for r in down_result if 'pat' in r.filename][0]\n",
    "        att_fname = os.path.join(DOWNLOAD_PATH, att_row.path, att_row.filename)\n",
    "\n",
    "        att_tabs.append(Table.read(att_fname))\n",
    "\n",
    "\n",
    "    att_tab = vstack(att_tabs)\n",
    "    \n",
    "    return att_tab\n",
    "\n",
    "\n",
    "\n",
    "def get_rates_data(time, t_buff=100.0):\n",
    "    '''\n",
    "    Finds all the observations in time - t_buff to time + t_buff\n",
    "    downloads all the rate data tables and mergers them\n",
    "    \n",
    "    input:\n",
    "    time : date time or string in Y-m-d H:M:S.f format should work\n",
    "    t_buff : get data at time +/- t_buff seconds\n",
    "\n",
    "    \n",
    "    output:\n",
    "    tab_ms : Table with the 64 ms rates data\n",
    "    tab_quad : Table with the 1.6 s quad rates data\n",
    "    tab_1s : Table with the 1 s rates data\n",
    "    '''\n",
    "    \n",
    "    \n",
    "    obsids = get_obsids(time, t_buff=t_buff)\n",
    "    \n",
    "    down_results = download_data(obsids, string_match=['*brt1s.lc.gz', '*brtqd.lc.gz', '*brtms.lc.gz'])\n",
    "    \n",
    "#     if len(down_results) > 1:\n",
    "\n",
    "    tabs_1s = []\n",
    "    tabs_quad = []\n",
    "    tabs_ms = []\n",
    "\n",
    "    for down_result in down_results:\n",
    "\n",
    "        ms_row = [r for r in down_result if 'ms' in r.filename][0]\n",
    "        ms_fname = os.path.join(DOWNLOAD_PATH, ms_row.path, ms_row.filename)\n",
    "\n",
    "        tabs_ms.append(Table.read(ms_fname))\n",
    "\n",
    "\n",
    "        s_row = [r for r in down_result if '1s' in r.filename][0]\n",
    "        s_fname = os.path.join(DOWNLOAD_PATH, s_row.path, s_row.filename)\n",
    "\n",
    "        tabs_1s.append(Table.read(s_fname))\n",
    "\n",
    "\n",
    "        quad_row = [r for r in down_result if 'qd' in r.filename][0]\n",
    "        quad_fname = os.path.join(DOWNLOAD_PATH, quad_row.path, quad_row.filename)\n",
    "\n",
    "        tabs_quad.append(Table.read(quad_fname))\n",
    "\n",
    "    tab_ms = vstack(tabs_ms)\n",
    "    tab_1s = vstack(tabs_1s)\n",
    "    tab_quad = vstack(tabs_quad)\n",
    "    \n",
    "    tab_ms.sort('TIME')\n",
    "    tab_1s.sort('TIME')\n",
    "    tab_quad.sort('TIME')\n",
    "    \n",
    "    return tab_ms, tab_quad, tab_1s"
   ]
  },
  {
   "cell_type": "markdown",
   "id": "5522a469",
   "metadata": {},
   "source": [
    "### A bunch of functions needed to do coordinate conversions \n",
    "\n",
    "These are all in NITRATES but I pasted them here to avoid you having to install it"
   ]
  },
  {
   "cell_type": "code",
   "execution_count": 3,
   "id": "f80b9901",
   "metadata": {},
   "outputs": [],
   "source": [
    "align_mat = np.array(\n",
    "    [\n",
    "        [-1.96305411e-04, 6.56927099e-06, 9.99999981e-01],\n",
    "        [9.99994245e-01, -3.38686178e-03, 1.96326534e-04],\n",
    "        [3.38686300e-03, 9.99994265e-01, -5.90437390e-06],\n",
    "    ]\n",
    ")\n",
    "\n",
    "\n",
    "def maintain_quat(q, round_off_err=1e-6):\n",
    "    norm = np.sqrt(np.sum(np.square(q)))\n",
    "    if (q[3] < 0) or (abs(norm - 1.0) > round_off_err):\n",
    "        # print \"fixing quat\"\n",
    "        invnorm = 1.0 / norm\n",
    "        err = abs(norm - 1.0)\n",
    "        if q[3] < 0:\n",
    "            invnorm = -invnorm\n",
    "        q = q * invnorm\n",
    "    return q\n",
    "\n",
    "\n",
    "def convertRotMatrixToQuat(rot):\n",
    "    diag_sum = np.zeros(4)\n",
    "    q = np.zeros(4)\n",
    "\n",
    "    diag_sum[0] = 1 + rot[0][0] - rot[1][1] - rot[2][2]\n",
    "    diag_sum[1] = 1 - rot[0][0] + rot[1][1] - rot[2][2]\n",
    "    diag_sum[2] = 1 - rot[0][0] - rot[1][1] + rot[2][2]\n",
    "    diag_sum[3] = 1 + rot[0][0] + rot[1][1] + rot[2][2]\n",
    "\n",
    "    maxi = np.argmax(diag_sum)\n",
    "\n",
    "    q[maxi] = 0.5 * np.sqrt(diag_sum[maxi])\n",
    "    recip = 1.0 / (4.0 * q[maxi])\n",
    "\n",
    "    if maxi == 0:\n",
    "        q[1] = recip * (rot[0, 1] + rot[1, 0])\n",
    "        q[2] = recip * (rot[2, 0] + rot[0, 2])\n",
    "        q[3] = recip * (rot[1, 2] - rot[2, 1])\n",
    "\n",
    "    elif maxi == 1:\n",
    "        q[0] = recip * (rot[0, 1] + rot[1, 0])\n",
    "        q[2] = recip * (rot[1, 2] + rot[2, 1])\n",
    "        q[3] = recip * (rot[2, 0] - rot[0, 2])\n",
    "\n",
    "    elif maxi == 2:\n",
    "        q[0] = recip * (rot[2, 0] + rot[0, 2])\n",
    "        q[1] = recip * (rot[1, 2] + rot[2, 1])\n",
    "        q[3] = recip * (rot[0, 1] - rot[1, 0])\n",
    "\n",
    "    elif maxi == 3:\n",
    "        q[0] = recip * (rot[1, 2] - rot[2, 1])\n",
    "        q[1] = recip * (rot[2, 0] - rot[0, 2])\n",
    "        q[2] = recip * (rot[0, 1] - rot[1, 0])\n",
    "\n",
    "    q = maintain_quat(q)\n",
    "\n",
    "    return q\n",
    "\n",
    "\n",
    "def convertQuatToRotMatrix(q):\n",
    "    rot = np.zeros((3, 3))\n",
    "    q2 = np.square(q)\n",
    "\n",
    "    rot[0, 0] = q2[0] - q2[1] - q2[2] + q2[3]\n",
    "    rot[1, 1] = -q2[0] + q2[1] - q2[2] + q2[3]\n",
    "    rot[2, 2] = -q2[0] - q2[1] + q2[2] + q2[3]\n",
    "\n",
    "    rot[0, 1] = 2.0 * (q[0] * q[1] + q[2] * q[3])\n",
    "    rot[1, 0] = 2.0 * (q[0] * q[1] - q[2] * q[3])\n",
    "\n",
    "    rot[0, 2] = 2.0 * (q[0] * q[2] - q[1] * q[3])\n",
    "    rot[2, 0] = 2.0 * (q[0] * q[2] + q[1] * q[3])\n",
    "\n",
    "    rot[1, 2] = 2.0 * (q[1] * q[2] + q[0] * q[3])\n",
    "    rot[2, 1] = 2.0 * (q[1] * q[2] - q[0] * q[3])\n",
    "\n",
    "    return rot\n",
    "\n",
    "\n",
    "def invertQuat(q):\n",
    "    q1 = -1.0 * q\n",
    "    q1[3] *= -1\n",
    "\n",
    "    return q1\n",
    "\n",
    "\n",
    "def productOfQuats(q1, q2):\n",
    "    q = np.zeros_like(q1)\n",
    "\n",
    "    q[0] = q2[3] * q1[0] + q2[2] * q1[1] - q2[1] * q1[2] + q2[0] * q1[3]\n",
    "    q[1] = -q2[2] * q1[0] + q2[3] * q1[1] + q2[0] * q1[2] + q2[1] * q1[3]\n",
    "    q[2] = q2[1] * q1[0] - q2[0] * q1[1] + q2[3] * q1[2] + q2[2] * q1[3]\n",
    "    q[3] = -q2[0] * q1[0] - q2[1] * q1[1] - q2[2] * q1[2] + q2[3] * q1[3]\n",
    "\n",
    "    q = maintain_quat(q)\n",
    "\n",
    "    return q\n",
    "\n",
    "\n",
    "def applyRotMatrixToVector(rot, vec):\n",
    "    newvec = np.zeros_like(vec)\n",
    "\n",
    "    for i in range(len(newvec)):\n",
    "        if vec.ndim > 1:\n",
    "            newvec[i] = np.sum(vec * rot[i, :, np.newaxis], axis=0)\n",
    "        else:\n",
    "            newvec[i] = np.sum(vec * rot[i, :])\n",
    "\n",
    "    return newvec\n",
    "\n",
    "\n",
    "def radec2skyvec(ra, dec):\n",
    "    z_sky = np.sin(np.radians(dec))\n",
    "    x_sky = (np.cos(np.radians(dec))) * (np.cos(np.radians(ra)))\n",
    "    y_sky = (np.cos(np.radians(dec))) * (np.sin(np.radians(ra)))\n",
    "    skyunit = np.array([x_sky, y_sky, z_sky])\n",
    "    return skyunit\n",
    "\n",
    "\n",
    "def skyvec2radec(sky_vec):\n",
    "    dec = np.rad2deg(np.arcsin(sky_vec[2]))\n",
    "    ra = np.rad2deg(np.arctan2(sky_vec[1], sky_vec[0]))\n",
    "    if np.isscalar(ra):\n",
    "        if ra < 0:\n",
    "            ra += 360.0\n",
    "    else:\n",
    "        if np.any(ra < 0):\n",
    "            ra[(ra < 0)] += 360.0\n",
    "    return ra, dec\n",
    "\n",
    "\n",
    "def imxy2detvec(imx, imy):\n",
    "    z = 1.0 / np.sqrt(imx**2.0 + imy**2.0 + 1.0)\n",
    "    x = imx * z\n",
    "    y = imy * z\n",
    "    detunit = np.array([x, y, z])\n",
    "    return detunit\n",
    "\n",
    "\n",
    "def theta_phi2detvec(theta, phi):\n",
    "    z = np.cos(np.radians(theta))\n",
    "    x = np.sin(np.radians(theta)) * np.cos(np.radians(phi))\n",
    "    y = np.sin(np.radians(theta)) * np.sin(np.radians(-phi))\n",
    "    detunit = np.array([x, y, z])\n",
    "    return detunit\n",
    "\n",
    "\n",
    "def convertSkyToSensor(teldef_qinv, sky_vec, att_q):\n",
    "    cor_q = productOfQuats(att_q, teldef_qinv)\n",
    "\n",
    "    rot = convertQuatToRotMatrix(cor_q)\n",
    "\n",
    "    det_vec = applyRotMatrixToVector(rot, sky_vec)\n",
    "\n",
    "    return det_vec\n",
    "\n",
    "\n",
    "def convertDetToSky(teldef_qinv, det_vec, att_q):\n",
    "    cor_q = productOfQuats(att_q, teldef_qinv)\n",
    "\n",
    "    cor_qinv = invertQuat(cor_q)\n",
    "\n",
    "    rot = convertQuatToRotMatrix(cor_qinv)\n",
    "\n",
    "    sky_vec = applyRotMatrixToVector(rot, det_vec)\n",
    "\n",
    "    return sky_vec\n",
    "\n",
    "\n",
    "def convert_radec2batxyz(ra, dec, att_q):\n",
    "    \"\"\"\n",
    "    Converts ra, dec to the BAT x,y,z vector\n",
    "\n",
    "    Parameters:\n",
    "    ra: float in degrees\n",
    "    dec: float in degrees\n",
    "    att_q: the attitude quaternion (length 4 1D array)\n",
    "\n",
    "    Returns:\n",
    "    detector vec: length 3 float vector\n",
    "    \"\"\"\n",
    "    teldef_q = convertRotMatrixToQuat(align_mat)\n",
    "    teldef_qinv = invertQuat(teldef_q)\n",
    "    att_q = maintain_quat(att_q)\n",
    "\n",
    "    sky_vec = radec2skyvec(ra, dec)\n",
    "    det_vec = convertSkyToSensor(teldef_qinv, sky_vec, att_q)\n",
    "\n",
    "    return det_vec\n",
    "\n",
    "\n",
    "def convert_radec2thetaphi(ra, dec, att_q):\n",
    "    \"\"\"\n",
    "    Converts ra, dec to the BAT theta, phi\n",
    "\n",
    "    Parameters:\n",
    "    ra: float in degrees\n",
    "    dec: float in degrees\n",
    "    att_q: the attitude quaternion (length 4 1D array)\n",
    "\n",
    "    Returns:\n",
    "    theta, phi: float in degrees\n",
    "    \"\"\"\n",
    "    teldef_q = convertRotMatrixToQuat(align_mat)\n",
    "    teldef_qinv = invertQuat(teldef_q)\n",
    "    att_q = maintain_quat(att_q)\n",
    "\n",
    "    sky_vec = radec2skyvec(ra, dec)\n",
    "    det_vec = convertSkyToSensor(teldef_qinv, sky_vec, att_q)\n",
    "\n",
    "    theta = np.rad2deg(np.arccos(det_vec[2]))\n",
    "    phi = np.rad2deg(np.arctan2(-det_vec[1], det_vec[0]))\n",
    "    if np.isscalar(phi):\n",
    "        if phi < 0.0:\n",
    "            phi += 360.0\n",
    "    else:\n",
    "        bl = phi < 0.0\n",
    "        if np.sum(bl) > 0:\n",
    "            phi[bl] += 360.0\n",
    "\n",
    "    return theta, phi\n",
    "\n",
    "\n",
    "def convert_radec2imxy(ra, dec, att_q):\n",
    "    \"\"\"\n",
    "    Converts ra, dec to imx, imy\n",
    "\n",
    "    Parameters:\n",
    "    ra: float in degrees\n",
    "    dec: float in degrees\n",
    "    att_q: the attitude quaternion (length 4 1D array)\n",
    "\n",
    "    Returns:\n",
    "    imx: float\n",
    "    imy: float\n",
    "    \"\"\"\n",
    "    teldef_q = convertRotMatrixToQuat(align_mat)\n",
    "    teldef_qinv = invertQuat(teldef_q)\n",
    "    att_q = maintain_quat(att_q)\n",
    "\n",
    "    sky_vec = radec2skyvec(ra, dec)\n",
    "    det_vec = convertSkyToSensor(teldef_qinv, sky_vec, att_q)\n",
    "\n",
    "    imx = det_vec[0] / det_vec[2]\n",
    "    imy = det_vec[1] / det_vec[2]\n",
    "    return imx, imy\n",
    "\n",
    "\n",
    "def convert_theta_phi2radec(theta, phi, att_q):\n",
    "    \"\"\"\n",
    "    Converts theta, phi to ra, dec\n",
    "\n",
    "    Parameters:\n",
    "    theta: float in degrees\n",
    "    phi: float in degrees\n",
    "    att_q: the attitude quaternion (length 4 1D array)\n",
    "\n",
    "    Returns:\n",
    "    ra: float in degrees\n",
    "    dec: float in degrees\n",
    "    \"\"\"\n",
    "\n",
    "    teldef_q = convertRotMatrixToQuat(align_mat)\n",
    "    teldef_qinv = invertQuat(teldef_q)\n",
    "    att_q = maintain_quat(att_q)\n",
    "\n",
    "    # det_vec = imxy2detvec(imx, imy)\n",
    "    det_vec = theta_phi2detvec(theta, phi)\n",
    "\n",
    "    sky_vec = convertDetToSky(teldef_qinv, det_vec, att_q)\n",
    "\n",
    "    ra, dec = skyvec2radec(sky_vec)\n",
    "\n",
    "    return ra, dec\n",
    "\n",
    "\n",
    "def convert_imxy2radec(imx, imy, att_q):\n",
    "    \"\"\"\n",
    "    Converts imx, imy to ra, dec\n",
    "\n",
    "    Parameters:\n",
    "    imx: float\n",
    "    imy: float\n",
    "    att_q: the attitude quaternion (length 4 1D array)\n",
    "\n",
    "    Returns:\n",
    "    ra: float in degrees\n",
    "    dec: float in degrees\n",
    "    \"\"\"\n",
    "\n",
    "    teldef_q = convertRotMatrixToQuat(align_mat)\n",
    "    teldef_qinv = invertQuat(teldef_q)\n",
    "    att_q = maintain_quat(att_q)\n",
    "\n",
    "    det_vec = imxy2detvec(imx, imy)\n",
    "\n",
    "    sky_vec = convertDetToSky(teldef_qinv, det_vec, att_q)\n",
    "\n",
    "    ra, dec = skyvec2radec(sky_vec)\n",
    "\n",
    "    return ra, dec\n",
    "\n",
    "\n",
    "def theta_phi2imxy(theta, phi):\n",
    "    imr = np.tan(np.radians(theta))\n",
    "    imx = imr * np.cos(np.radians(phi))\n",
    "    imy = imr * np.sin(np.radians(-phi))\n",
    "    return imx, imy\n",
    "\n",
    "\n",
    "def imxy2theta_phi(imx, imy):\n",
    "    theta = np.rad2deg(np.arctan(np.sqrt(imx**2 + imy**2)))\n",
    "    phi = np.rad2deg(np.arctan2(-imy, imx))\n",
    "    if np.isscalar(phi):\n",
    "        if phi < 0:\n",
    "            phi += 360.0\n",
    "    else:\n",
    "        bl = phi < 0\n",
    "        if np.sum(bl) > 0:\n",
    "            phi[bl] += 360.0\n",
    "    return theta, phi\n",
    "\n",
    "\n",
    "def pnt2euler(ra, dec, roll, roll_sign=-1.0, roll_offset=0.0):\n",
    "    phi = np.radians(ra)\n",
    "    theta = np.radians(90.0 - dec)\n",
    "    psi = np.radians(roll * roll_sign + 90.0 - roll_offset)\n",
    "\n",
    "    return phi, theta, psi\n",
    "\n",
    "\n",
    "def convertEulerToRotMatrix(phi, theta, psi):\n",
    "    sphi = np.sin(phi)\n",
    "    cphi = np.cos(phi)\n",
    "    stheta = np.sin(theta)\n",
    "    ctheta = np.cos(theta)\n",
    "    spsi = np.sin(psi)\n",
    "    cpsi = np.cos(psi)\n",
    "\n",
    "    rot = np.zeros((3, 3))\n",
    "\n",
    "    rot[0, 0] = cpsi * ctheta * cphi - spsi * sphi\n",
    "    rot[0, 1] = cpsi * ctheta * sphi + spsi * cphi\n",
    "\n",
    "    rot[1, 0] = -spsi * ctheta * cphi - cpsi * sphi\n",
    "    rot[1, 1] = -spsi * ctheta * sphi + cpsi * cphi\n",
    "\n",
    "    rot[0, 2] = -cpsi * stheta\n",
    "    rot[1, 2] = spsi * stheta\n",
    "\n",
    "    rot[2, 0] = stheta * cphi\n",
    "    rot[2, 1] = stheta * sphi\n",
    "\n",
    "    rot[2, 2] = ctheta\n",
    "\n",
    "    return rot\n",
    "\n",
    "\n",
    "def convertEulerToQuat(phi, theta, psi):\n",
    "    rot = convertEulerToRotMatrix(phi, theta, psi)\n",
    "\n",
    "    q = convertRotMatrixToQuat(rot)\n",
    "\n",
    "    return q\n",
    "\n",
    "\n",
    "def pnt2quat(ra, dec, roll):\n",
    "    \"\"\"\n",
    "    Converts pointing direciton to a quaternion\n",
    "\n",
    "    Parameters:\n",
    "    ra: float in degrees\n",
    "    dec: float in degrees\n",
    "    roll: float in degrees\n",
    "\n",
    "    Returns:\n",
    "    q: the attitude quaternion (length 4 1D array)\n",
    "    \"\"\"\n",
    "\n",
    "    teldef_q = convertRotMatrixToQuat(align_mat)\n",
    "\n",
    "    phi, theta, psi = pnt2euler(ra, dec, roll)\n",
    "\n",
    "    q_realigned = convertEulerToQuat(phi, theta, psi)\n",
    "\n",
    "    q = productOfQuats(q_realigned, teldef_q)\n",
    "\n",
    "    return q"
   ]
  },
  {
   "cell_type": "markdown",
   "id": "86fc948d",
   "metadata": {},
   "source": [
    "### Functions to get BAT FoV"
   ]
  },
  {
   "cell_type": "code",
   "execution_count": 4,
   "id": "d40829b9",
   "metadata": {},
   "outputs": [],
   "source": [
    "from astropy.wcs import WCS\n",
    "from astropy.io import fits\n",
    "\n",
    "\n",
    "def world2val(w, img, imxs, imys):\n",
    "    '''\n",
    "    Quick bi-linear interpolation of image\n",
    "    '''\n",
    "    #     pnts = np.vstack([imxs, imys]).T\n",
    "    xinds, yinds = w.wcs_world2pix(imxs, imys, 0)\n",
    "    int0_xinds = np.floor(xinds).astype(np.int64)\n",
    "    int0_yinds = np.floor(yinds).astype(np.int64)\n",
    "    if np.any(int0_xinds <= 0):\n",
    "        int0_xinds[(int0_xinds <= 0)] = 0\n",
    "    if np.any(int0_yinds <= 0):\n",
    "        int0_yinds[(int0_yinds <= 0)] = 0\n",
    "    if np.any(int0_xinds >= (img.shape[1] - 2)):\n",
    "        int0_xinds[(int0_xinds >= (img.shape[1] - 2))] = img.shape[1] - 2\n",
    "    if np.any(int0_yinds >= (img.shape[0] - 2)):\n",
    "        int0_yinds[int0_yinds >= (img.shape[0] - 2)] = img.shape[0] - 2\n",
    "    int1_xinds = int0_xinds + 1\n",
    "    int1_yinds = int0_yinds + 1\n",
    "\n",
    "    dx1inds = xinds - int0_xinds\n",
    "    dy1inds = yinds - int0_yinds\n",
    "    dx0inds = 1.0 - dx1inds\n",
    "    dy0inds = 1.0 - dy1inds\n",
    "\n",
    "    vals = (\n",
    "        dx0inds * dy0inds * img[int0_yinds, int0_xinds]\n",
    "        + dx1inds * dy0inds * img[int0_yinds, int1_xinds]\n",
    "        + dx1inds * dy1inds * img[int1_yinds, int1_xinds]\n",
    "        + dx0inds * dy1inds * img[int1_yinds, int0_xinds]\n",
    "    )\n",
    "\n",
    "    return vals\n",
    "\n",
    "\n",
    "\n",
    "def get_pc_hpmap(pc_fname, att_row, Nside=2**7, nest=True):\n",
    "    '''\n",
    "    Returns healpix map with partial coding fraction in each pixel\n",
    "    \n",
    "    input:\n",
    "    pc_fname: file name of partial coding file (string)\n",
    "    att_row : row of attitude table (select by time you want)\n",
    "    Nside: healpix nside to use in internal map calculation \n",
    "    \n",
    "    \n",
    "    output:\n",
    "    pc_map : healpix map of partial coding fraction values (array)\n",
    "    '''\n",
    "    \n",
    "    \n",
    "    Npix = hp.nside2npix(Nside)\n",
    "    pc_map = np.zeros(Npix)\n",
    "\n",
    "    att_q = att_row[\"QPARAM\"] # quaternion used for coordinate conversions\n",
    "    pnt_ra, pnt_dec = att_row[\"POINTING\"][:2]\n",
    "\n",
    "    # max zenith angle still in FoV from boresight ~65 deg \n",
    "    vec = hp.ang2vec(pnt_ra, pnt_dec, lonlat=True)\n",
    "    hp_inds = hp.query_disc(Nside, vec, np.radians(70.0), nest=nest)\n",
    "\n",
    "    # get ra, dec of healpix map, then convert to image coords (imx, imy)\n",
    "    hp_ras, hp_decs = hp.pix2ang(Nside, hp_inds, nest=nest, lonlat=True)\n",
    "    hp_imxs, hp_imys = convert_radec2imxy(hp_ras, hp_decs, att_q)\n",
    "\n",
    "    # max range of imy ~ -1 to 1\n",
    "    # max range of imx ~ -1.9 to 1.9\n",
    "    bl = (np.abs(hp_imys) < 1.01) & (np.abs(hp_imxs) < 2.0)\n",
    "\n",
    "    # open pc file\n",
    "    PC = fits.open(pc_fname)[0]\n",
    "    w_t = WCS(PC.header, key=\"T\")\n",
    "    pc = PC.data\n",
    "\n",
    "    # interpolate image onto healpix map\n",
    "    pc_vals = world2val(w_t, pc, hp_imxs[bl], hp_imys[bl])\n",
    "    pc_map[hp_inds[bl]] = pc_vals\n",
    "\n",
    "    return pc_map\n",
    "\n",
    "\n",
    "def get_fov_hpmap(pc_fname, att_row, Nside=2**7, pc_min=0.1):\n",
    "    '''\n",
    "    Returns healpix map that is True (or 1) for pixels in BAT FoV\n",
    "    \n",
    "    input:\n",
    "    pc_fname: file name of partial coding file (string)\n",
    "    att_row : row of attitude table (select by time you want)\n",
    "    pc_min : min partial coding fraction to be considered in FoV (default 0.1)\n",
    "    Nside: healpix nside to use in internal map calculation \n",
    "    \n",
    "    output:\n",
    "    fov_map : healpix map with True where the FoV is (array, bool)\n",
    "    '''\n",
    "    \n",
    "    pc_map = get_pc_hpmap(pc_fname, att_row, Nside=Nside)\n",
    "    \n",
    "    fov_map = (pc_map >= pc_min)\n",
    "    \n",
    "    return fov_map\n",
    "\n",
    "\n",
    "def is_radec_in_fov(ra, dec, pc_fname, att_row, pc_min=0.1, Nside=2**7):\n",
    "    '''\n",
    "    Returns True if RA, Dec is in BAT FoV\n",
    "    \n",
    "    input:\n",
    "    ra: RA (deg)\n",
    "    dec: Dec (deg)\n",
    "    pc_fname: file name of partial coding file (string)\n",
    "    att_row : row of attitude table (select by time you want)\n",
    "    pc_min : min partial coding fraction to be considered in FoV (default 0.1)\n",
    "    Nside: healpix nside to use in internal map calculation \n",
    "    \n",
    "    output:\n",
    "    bool : True if ra, dec is in FoV\n",
    "    '''\n",
    "    \n",
    "    pix = hp.ang2pix(Nside, ra, dec, lonlat=True, nest=True)\n",
    "    \n",
    "    pc_map = get_pc_hpmap(pc_fname, att_row, Nside=Nside)\n",
    "    \n",
    "    return (pc_map[pix] >= pc_min)\n",
    "\n",
    "    \n",
    "\n",
    "def does_err_circ_overlap_fov(ra, dec, err_rad, pc_fname, att_row, pc_min=0.1, Nside=2**7):\n",
    "    '''\n",
    "    Returns fraction of error circle by solid angle that is in the BAT FoV\n",
    "    0 if not in FoV at all\n",
    "    \n",
    "    input:\n",
    "    ra: RA of circle center\n",
    "    dec: Dec of circle center\n",
    "    err_rad: radius of circle (deg)\n",
    "    pc_fname: file name of partial coding file (string)\n",
    "    att_row : row of attitude table (select by time you want)\n",
    "    pc_min : min partial coding fraction to be considered in FoV (default 0.1)\n",
    "    Nside: healpix nside to use in internal map calculation \n",
    "    \n",
    "    output:\n",
    "    frac : Fraction of the circle that is in BAT FoV (float)\n",
    "    '''\n",
    "    \n",
    "    vec = hp.ang2vec(ra, dec, lonlat=True)\n",
    "    hp_inds = hp.query_disc(Nside, vec, np.radians(err_rad), nest=True)\n",
    "    \n",
    "    pc_map = get_pc_hpmap(pc_fname, att_row, Nside=Nside)\n",
    "    \n",
    "    frac = np.sum(pc_map[hp_inds] >= pc_min) / len(hp_inds)\n",
    "    \n",
    "    return frac\n",
    "\n",
    "\n",
    "def get_pc_at_pos(ra, dec, pc_fname, att_row, Nside=2**7):\n",
    "    '''\n",
    "    Returns True if RA, Dec is in BAT FoV\n",
    "    \n",
    "    input:\n",
    "    ra: RA (deg)\n",
    "    dec: Dec (deg)\n",
    "    pc_fname: file name of partial coding file (string)\n",
    "    att_row : row of attitude table (select by time you want)\n",
    "    Nside: healpix nside to use in internal map calculation \n",
    "    \n",
    "    output:\n",
    "    bool : True if ra, dec is in FoV\n",
    "    '''\n",
    "    \n",
    "    pix = hp.ang2pix(Nside, ra, dec, lonlat=True, nest=True)\n",
    "    \n",
    "    pc_map = get_pc_hpmap(pc_fname, att_row, Nside=Nside)\n",
    "    \n",
    "    return pc_map[pix]"
   ]
  },
  {
   "cell_type": "markdown",
   "id": "0240ad56",
   "metadata": {},
   "source": [
    "### Give your trigger time as a string or datetime object"
   ]
  },
  {
   "cell_type": "code",
   "execution_count": 13,
   "id": "6a0c5410",
   "metadata": {
    "scrolled": true
   },
   "outputs": [
    {
     "name": "stdout",
     "output_type": "stream",
     "text": [
      "2015-02-28 04:55:43\n",
      "2015-02-28 04:59:03\n",
      "+---------------------+---------------------+-------------+--------------------+--------------+--------------+\n",
      "|          Begin Time |            End Time | Target Name | Observation Number | Exposure (s) | Slewtime (s) |\n",
      "+---------------------+---------------------+-------------+--------------------+--------------+--------------+\n",
      "| 2015-02-28 04:53:54 | 2015-02-28 05:00:16 |         N/A |        00632888000 |          320 |           62 |\n",
      "+---------------------+---------------------+-------------+--------------------+--------------+--------------+\n"
     ]
    },
    {
     "data": {
      "application/vnd.jupyter.widget-view+json": {
       "model_id": "a4e30c44653849db8248668c19883dbe",
       "version_major": 2,
       "version_minor": 0
      },
      "text/plain": [
       "Downloading files:   0%|          | 0/3 [00:00<?, ?files/s]"
      ]
     },
     "metadata": {},
     "output_type": "display_data"
    },
    {
     "name": "stdout",
     "output_type": "stream",
     "text": [
      "WARNING: sw00632888000brt1s.lc.gz exists and not overwritten (set clobber=True to override this).\n",
      "WARNING: sw00632888000brtms.lc.gz exists and not overwritten (set clobber=True to override this).\n",
      "WARNING: sw00632888000brtqd.lc.gz exists and not overwritten (set clobber=True to override this).\n"
     ]
    }
   ],
   "source": [
    "utc_str = '2015-02-28 04:57:23.00'\n",
    "\n",
    "tab_ms, tab_quad, tab_1s = get_rates_data(utc_str)"
   ]
  },
  {
   "cell_type": "markdown",
   "id": "45631fdf",
   "metadata": {},
   "source": [
    "### Convert your time to mission elapsed time (met) to match the time format of the data"
   ]
  },
  {
   "cell_type": "code",
   "execution_count": 14,
   "id": "860bcac4",
   "metadata": {},
   "outputs": [
    {
     "name": "stdout",
     "output_type": "stream",
     "text": [
      "446792256.245365\n"
     ]
    }
   ],
   "source": [
    "met = utctime2met(utc_str)\n",
    "print(met)"
   ]
  },
  {
   "cell_type": "code",
   "execution_count": 15,
   "id": "d5bdc4e4",
   "metadata": {},
   "outputs": [
    {
     "data": {
      "text/plain": [
       "['TIME', 'COUNTS']"
      ]
     },
     "execution_count": 15,
     "metadata": {},
     "output_type": "execute_result"
    }
   ],
   "source": [
    "tab_1s.colnames"
   ]
  },
  {
   "cell_type": "markdown",
   "id": "202e9112",
   "metadata": {},
   "source": [
    "### 1 s binned rates data"
   ]
  },
  {
   "cell_type": "code",
   "execution_count": 16,
   "id": "b2b6f542",
   "metadata": {},
   "outputs": [
    {
     "data": {
      "text/plain": [
       "Text(0, 0.5, 'Count Rate')"
      ]
     },
     "execution_count": 16,
     "metadata": {},
     "output_type": "execute_result"
    },
    {
     "data": {
      "image/png": "[encoded data removed]",
      "text/plain": [
       "<Figure size 640x480 with 1 Axes>"
      ]
     },
     "metadata": {},
     "output_type": "display_data"
    }
   ],
   "source": [
    "plt.plot(tab_1s['TIME'] - met, tab_1s['COUNTS'])\n",
    "\n",
    "plt.xlim(-110, 110)\n",
    "\n",
    "plt.xlabel('dt (s)')\n",
    "plt.ylabel('Count Rate')"
   ]
  },
  {
   "cell_type": "code",
   "execution_count": 17,
   "id": "5a3c12a9",
   "metadata": {},
   "outputs": [
    {
     "data": {
      "text/plain": [
       "['TIME', 'COUNTS']"
      ]
     },
     "execution_count": 17,
     "metadata": {},
     "output_type": "execute_result"
    }
   ],
   "source": [
    "tab_ms.colnames"
   ]
  },
  {
   "cell_type": "markdown",
   "id": "109e3916",
   "metadata": {},
   "source": [
    "### 64 ms binned rates data in 4 energy bins"
   ]
  },
  {
   "cell_type": "code",
   "execution_count": 18,
   "id": "86118011",
   "metadata": {},
   "outputs": [
    {
     "data": {
      "text/plain": [
       "Text(0.5, 0, 'dt (s)')"
      ]
     },
     "execution_count": 18,
     "metadata": {},
     "output_type": "execute_result"
    },
    {
     "data": {
      "image/png": "[encoded data removed]",
      "text/plain": [
       "<Figure size 640x480 with 1 Axes>"
      ]
     },
     "metadata": {},
     "output_type": "display_data"
    }
   ],
   "source": [
    "plt.step(tab_ms['TIME'] - met, tab_ms['COUNTS'], label=['15-25', '25-50', '50-100', '100-350'])\n",
    "\n",
    "plt.xlim(-5, 5)\n",
    "plt.legend()\n",
    "\n",
    "plt.ylabel('Counts per 64 ms bin')\n",
    "plt.xlabel('dt (s)')"
   ]
  },
  {
   "cell_type": "markdown",
   "id": "b2d97b49",
   "metadata": {},
   "source": [
    "### 64 ms binned rates data summed into 1 energy bin"
   ]
  },
  {
   "cell_type": "code",
   "execution_count": 19,
   "id": "88b411b6",
   "metadata": {},
   "outputs": [
    {
     "data": {
      "text/plain": [
       "Text(0.5, 0, 'dt (s)')"
      ]
     },
     "execution_count": 19,
     "metadata": {},
     "output_type": "execute_result"
    },
    {
     "data": {
      "image/png": "[encoded data removed]",
      "text/plain": [
       "<Figure size 640x480 with 1 Axes>"
      ]
     },
     "metadata": {},
     "output_type": "display_data"
    }
   ],
   "source": [
    "plt.step(tab_ms['TIME'] - met, np.sum(tab_ms['COUNTS'],axis=1), label=['15-350 keV'])\n",
    "\n",
    "plt.xlim(-5, 5)\n",
    "plt.legend()\n",
    "\n",
    "plt.ylabel('Counts per 64 ms bin')\n",
    "plt.xlabel('dt (s)')"
   ]
  },
  {
   "cell_type": "markdown",
   "id": "da243282",
   "metadata": {},
   "source": [
    "### Getting pointing information (attitude file)"
   ]
  },
  {
   "cell_type": "code",
   "execution_count": 20,
   "id": "d537bb84",
   "metadata": {},
   "outputs": [
    {
     "name": "stdout",
     "output_type": "stream",
     "text": [
      "2015-02-28 04:55:43\n",
      "2015-02-28 04:59:03\n",
      "+---------------------+---------------------+-------------+--------------------+--------------+--------------+\n",
      "|          Begin Time |            End Time | Target Name | Observation Number | Exposure (s) | Slewtime (s) |\n",
      "+---------------------+---------------------+-------------+--------------------+--------------+--------------+\n",
      "| 2015-02-28 04:53:54 | 2015-02-28 05:00:16 |         N/A |        00632888000 |          320 |           62 |\n",
      "+---------------------+---------------------+-------------+--------------------+--------------+--------------+\n"
     ]
    },
    {
     "data": {
      "application/vnd.jupyter.widget-view+json": {
       "model_id": "bd2989164fad4d6a9cfd54e193251c62",
       "version_major": 2,
       "version_minor": 0
      },
      "text/plain": [
       "Downloading files:   0%|          | 0/1 [00:00<?, ?files/s]"
      ]
     },
     "metadata": {},
     "output_type": "display_data"
    },
    {
     "name": "stdout",
     "output_type": "stream",
     "text": [
      "WARNING: sw00632888000pat.fits.gz exists and not overwritten (set clobber=True to override this).\n"
     ]
    },
    {
     "name": "stderr",
     "output_type": "stream",
     "text": [
      "WARNING: hdu= was not specified but multiple tables are present, reading in first available table (hdu=1) [astropy.io.fits.connect]\n"
     ]
    }
   ],
   "source": [
    "att_tab = get_pointing_data(utc_str)"
   ]
  },
  {
   "cell_type": "code",
   "execution_count": 21,
   "id": "8902b66c",
   "metadata": {},
   "outputs": [
    {
     "data": {
      "text/plain": [
       "Text(0, 0.5, 'RA/Dec (deg)')"
      ]
     },
     "execution_count": 21,
     "metadata": {},
     "output_type": "execute_result"
    },
    {
     "data": {
      "image/png": "[encoded data removed]",
      "text/plain": [
       "<Figure size 640x480 with 1 Axes>"
      ]
     },
     "metadata": {},
     "output_type": "display_data"
    }
   ],
   "source": [
    "plt.plot(att_tab['TIME'] - met, att_tab['POINTING'][:,:2], 'o', label=['RA', 'Dec'])\n",
    "\n",
    "plt.xlim(-110, 110)\n",
    "plt.legend()\n",
    "plt.xlabel('dt (s)')\n",
    "plt.ylabel('RA/Dec (deg)')"
   ]
  },
  {
   "cell_type": "markdown",
   "id": "dbf8c856",
   "metadata": {},
   "source": [
    "### grabbing the pointing direction at a particular time "
   ]
  },
  {
   "cell_type": "code",
   "execution_count": 22,
   "id": "7de71b53",
   "metadata": {},
   "outputs": [
    {
     "name": "stdout",
     "output_type": "stream",
     "text": [
      "26.611099789872938 61.78158632361296\n"
     ]
    }
   ],
   "source": [
    "ra_pnt, dec_pnt = get_pointing_direction(att_tab, met)\n",
    "print(ra_pnt, dec_pnt)"
   ]
  },
  {
   "cell_type": "code",
   "execution_count": null,
   "id": "f64f2167",
   "metadata": {},
   "outputs": [],
   "source": []
  },
  {
   "cell_type": "markdown",
   "id": "84551980",
   "metadata": {},
   "source": [
    "### Getting file with Earth position \n",
    "Also has info about satellite position, Sun position, and more"
   ]
  },
  {
   "cell_type": "code",
   "execution_count": 23,
   "id": "3db607ef",
   "metadata": {},
   "outputs": [
    {
     "name": "stdout",
     "output_type": "stream",
     "text": [
      "2015-02-28 04:55:43\n",
      "2015-02-28 04:59:03\n",
      "+---------------------+---------------------+-------------+--------------------+--------------+--------------+\n",
      "|          Begin Time |            End Time | Target Name | Observation Number | Exposure (s) | Slewtime (s) |\n",
      "+---------------------+---------------------+-------------+--------------------+--------------+--------------+\n",
      "| 2015-02-28 04:53:54 | 2015-02-28 05:00:16 |         N/A |        00632888000 |          320 |           62 |\n",
      "+---------------------+---------------------+-------------+--------------------+--------------+--------------+\n"
     ]
    },
    {
     "data": {
      "application/vnd.jupyter.widget-view+json": {
       "model_id": "5585f0e5e5d74079b21e45bb8037f2da",
       "version_major": 2,
       "version_minor": 0
      },
      "text/plain": [
       "Downloading files:   0%|          | 0/1 [00:00<?, ?files/s]"
      ]
     },
     "metadata": {},
     "output_type": "display_data"
    },
    {
     "name": "stdout",
     "output_type": "stream",
     "text": [
      "WARNING: sw00632888000sao.fits.gz exists and not overwritten (set clobber=True to override this).\n"
     ]
    },
    {
     "name": "stderr",
     "output_type": "stream",
     "text": [
      "WARNING: UnitsWarning: 'GeV/c' did not parse as fits unit: At col 4, Unit 'c' not supported by the FITS standard. Did you mean C? If this is meant to be a custom unit, define it with 'u.def_unit'. To have it recognized inside a file reader or other code, enable it with 'u.add_enabled_units'. For details, see https://docs.astropy.org/en/latest/units/combining_and_defining.html [astropy.units.core]\n"
     ]
    }
   ],
   "source": [
    "sao_tab = get_prefilter_data(utc_str)"
   ]
  },
  {
   "cell_type": "code",
   "execution_count": 24,
   "id": "76ee4e6f",
   "metadata": {
    "scrolled": true
   },
   "outputs": [
    {
     "data": {
      "text/plain": [
       "['TIME',\n",
       " 'POSITION',\n",
       " 'VELOCITY',\n",
       " 'QUATERNION',\n",
       " 'PNTUNIT',\n",
       " 'POLAR',\n",
       " 'RA',\n",
       " 'DEC',\n",
       " 'ROLL',\n",
       " 'SAT_LAT',\n",
       " 'SAT_LON',\n",
       " 'SAT_ALT',\n",
       " 'ELV',\n",
       " 'BR_EARTH',\n",
       " 'SUNSHINE',\n",
       " 'FOV_FLAG',\n",
       " 'SUN_ANGLE',\n",
       " 'MOON_ANGLE',\n",
       " 'RAM_ANGLE',\n",
       " 'ANG_DIST',\n",
       " 'SAA',\n",
       " 'SAA_TIME',\n",
       " 'COR_ASCA',\n",
       " 'COR_SAX',\n",
       " 'MCILWAIN_L',\n",
       " 'SUN_RA',\n",
       " 'SUN_DEC',\n",
       " 'MOON_RA',\n",
       " 'MOON_DEC',\n",
       " 'EARTH_RA',\n",
       " 'EARTH_DEC']"
      ]
     },
     "execution_count": 24,
     "metadata": {},
     "output_type": "execute_result"
    }
   ],
   "source": [
    "sao_tab.colnames"
   ]
  },
  {
   "cell_type": "markdown",
   "id": "4d3892fa",
   "metadata": {},
   "source": [
    "### Grabbing the RA, Dec of Earth center and its radius on the sky for Swift"
   ]
  },
  {
   "cell_type": "code",
   "execution_count": 25,
   "id": "168945b0",
   "metadata": {},
   "outputs": [
    {
     "name": "stdout",
     "output_type": "stream",
     "text": [
      "256.34 6.6380024 66.70298150096666\n"
     ]
    }
   ],
   "source": [
    "earth_ra, earth_dec, earth_radius = get_earth_sat_pos(sao_tab, met)\n",
    "print(earth_ra, earth_dec, earth_radius)"
   ]
  },
  {
   "cell_type": "markdown",
   "id": "a6dbd2fa",
   "metadata": {},
   "source": [
    "### Just returning a True or False if a specific position is behind the Earth"
   ]
  },
  {
   "cell_type": "code",
   "execution_count": 27,
   "id": "95a44753",
   "metadata": {},
   "outputs": [
    {
     "name": "stdout",
     "output_type": "stream",
     "text": [
      "False\n"
     ]
    }
   ],
   "source": [
    "gbm_ra, gbm_dec = 14.04, 32.92\n",
    "\n",
    "print(is_pos_earth_occulted(gbm_ra, gbm_dec, sao_tab, met))"
   ]
  },
  {
   "cell_type": "markdown",
   "id": "43e4367d",
   "metadata": {},
   "source": [
    "### Calculating the fraction of an error circle's solid angle that is behind the Earth"
   ]
  },
  {
   "cell_type": "code",
   "execution_count": 28,
   "id": "b5c21feb",
   "metadata": {},
   "outputs": [
    {
     "name": "stdout",
     "output_type": "stream",
     "text": [
      "0.0\n",
      "0.035256592811983824\n"
     ]
    }
   ],
   "source": [
    "err_rad = 10.0 # deg\n",
    "print(is_circ_earth_occulted(gbm_ra, gbm_dec, err_rad, sao_tab, met))\n",
    "\n",
    "err_rad = 50.0 # deg\n",
    "print(is_circ_earth_occulted(gbm_ra, gbm_dec, 50.0, sao_tab, met))"
   ]
  },
  {
   "cell_type": "markdown",
   "id": "f02eafba",
   "metadata": {},
   "source": [
    "# BAT FoV Stuff\n",
    "\n",
    "This uses a random partial coding map and rotates it to the pointing direction requested. The partial coding map changes with which detectors are active, so this is not 100% accurate but is a good approximation. "
   ]
  },
  {
   "cell_type": "markdown",
   "id": "bd5befb3",
   "metadata": {},
   "source": [
    "### Find if position is in BAT FoV"
   ]
  },
  {
   "cell_type": "code",
   "execution_count": 29,
   "id": "81095b7d",
   "metadata": {},
   "outputs": [
    {
     "data": {
      "text/plain": [
       "True"
      ]
     },
     "execution_count": 29,
     "metadata": {},
     "output_type": "execute_result"
    }
   ],
   "source": [
    "pc_fname = 'fov_BAT_pc.img'\n",
    "att_ind = np.argmin(np.abs(att_tab['TIME'] - met))\n",
    "att_row = att_tab[att_ind]\n",
    "\n",
    "is_radec_in_fov(gbm_ra, gbm_dec, pc_fname, att_row)"
   ]
  },
  {
   "cell_type": "markdown",
   "id": "7c67ee5e",
   "metadata": {},
   "source": [
    "### Calculating the fraction of an error circle's solid angle that is in BAT's FoV"
   ]
  },
  {
   "cell_type": "code",
   "execution_count": 30,
   "id": "7377da06",
   "metadata": {},
   "outputs": [
    {
     "name": "stdout",
     "output_type": "stream",
     "text": [
      "1.0\n",
      "0.6200091131742325\n"
     ]
    }
   ],
   "source": [
    "err_rad = 10.0 # deg\n",
    "print( does_err_circ_overlap_fov(gbm_ra, gbm_dec, err_rad, pc_fname, att_row) )\n",
    "\n",
    "err_rad = 50.0 # deg\n",
    "print( does_err_circ_overlap_fov(gbm_ra, gbm_dec, err_rad, pc_fname, att_row) )"
   ]
  },
  {
   "cell_type": "markdown",
   "id": "4e793418",
   "metadata": {},
   "source": [
    "### Get FoV healpix map"
   ]
  },
  {
   "cell_type": "code",
   "execution_count": 33,
   "id": "3facd715",
   "metadata": {},
   "outputs": [
    {
     "data": {
      "text/plain": [
       "[<matplotlib.lines.Line2D at 0x15195e1b8c40>]"
      ]
     },
     "execution_count": 33,
     "metadata": {},
     "output_type": "execute_result"
    },
    {
     "data": {
      "image/png": "[encoded data removed]",
      "text/plain": [
       "<Figure size 850x540 with 2 Axes>"
      ]
     },
     "metadata": {},
     "output_type": "display_data"
    }
   ],
   "source": [
    "fov_map = get_fov_hpmap(pc_fname, att_row)\n",
    "\n",
    "hp.mollview(fov_map, nest=True)\n",
    "hp.projplot(gbm_ra, gbm_dec, 'r*', lonlat=True)"
   ]
  },
  {
   "cell_type": "markdown",
   "id": "908b7f1e",
   "metadata": {},
   "source": [
    "### Get partial coding healpix map"
   ]
  },
  {
   "cell_type": "code",
   "execution_count": 32,
   "id": "ca384621",
   "metadata": {},
   "outputs": [
    {
     "data": {
      "text/plain": [
       "[<matplotlib.lines.Line2D at 0x15195ffcc100>]"
      ]
     },
     "execution_count": 32,
     "metadata": {},
     "output_type": "execute_result"
    },
    {
     "data": {
      "image/png": "[encoded data removed]",
      "text/plain": [
       "<Figure size 850x540 with 2 Axes>"
      ]
     },
     "metadata": {},
     "output_type": "display_data"
    }
   ],
   "source": [
    "pc_map = get_pc_hpmap(pc_fname, att_row)\n",
    "\n",
    "hp.mollview(pc_map, nest=True)\n",
    "hp.projplot(gbm_ra, gbm_dec, 'r*', lonlat=True)"
   ]
  },
  {
   "cell_type": "code",
   "execution_count": 34,
   "id": "9334ee6e",
   "metadata": {},
   "outputs": [
    {
     "data": {
      "text/plain": [
       "0.5523040983559131"
      ]
     },
     "execution_count": 34,
     "metadata": {},
     "output_type": "execute_result"
    }
   ],
   "source": [
    "get_pc_at_pos(gbm_ra, gbm_dec, pc_fname, att_row)"
   ]
  },
  {
   "cell_type": "code",
   "execution_count": null,
   "id": "66a45c3a",
   "metadata": {},
   "outputs": [],
   "source": []
  }
 ],
 "metadata": {
  "kernelspec": {
   "display_name": "py39_realtime",
   "language": "python",
   "name": "py39_realtime"
  },
  "language_info": {
   "codemirror_mode": {
    "name": "ipython",
    "version": 3
   },
   "file_extension": ".py",
   "mimetype": "text/x-python",
   "name": "python",
   "nbconvert_exporter": "python",
   "pygments_lexer": "ipython3",
   "version": "3.9.16"
  }
 },
 "nbformat": 4,
 "nbformat_minor": 5
}
